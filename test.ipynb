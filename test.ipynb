{
 "cells": [
  {
   "cell_type": "code",
   "execution_count": 1,
   "metadata": {},
   "outputs": [
    {
     "name": "stderr",
     "output_type": "stream",
     "text": [
      "/opt/anaconda3/envs/am91r/lib/python3.9/site-packages/tqdm/auto.py:22: TqdmWarning: IProgress not found. Please update jupyter and ipywidgets. See https://ipywidgets.readthedocs.io/en/stable/user_install.html\n",
      "  from .autonotebook import tqdm as notebook_tqdm\n"
     ]
    }
   ],
   "source": [
    "import enums\n",
    "import covariance_analysis\n",
    "import hyperbolic_analysis\n",
    "import spectrograms\n",
    "import visualization"
   ]
  },
  {
   "cell_type": "code",
   "execution_count": 2,
   "metadata": {},
   "outputs": [],
   "source": [
    "spgm = spectrograms.get_time_aligned_smoothed_spectrogram_array(\n",
    "    language_family=enums.RomanceLanguages,\n",
    "    language=enums.RomanceLanguages.AMERICAN_SPANISH,\n",
    "    speaker=enums.FrenchSpeakers.SPEAKER_3,\n",
    "    digit=3,\n",
    ")"
   ]
  },
  {
   "cell_type": "code",
   "execution_count": null,
   "metadata": {},
   "outputs": [],
   "source": [
    "visualization.plot_spectrogram(spgm)"
   ]
  },
  {
   "cell_type": "code",
   "execution_count": 4,
   "metadata": {},
   "outputs": [],
   "source": [
    "spanish_cov = covariance_analysis.get_freq_covariance(\n",
    "    language_family=enums.RomanceLanguages,\n",
    "    language=enums.RomanceLanguages.AMERICAN_SPANISH\n",
    ")\n",
    "\n",
    "french_cov = covariance_analysis.get_freq_covariance(\n",
    "    language_family=enums.RomanceLanguages,\n",
    "    language=enums.RomanceLanguages.FRENCH\n",
    ")"
   ]
  },
  {
   "cell_type": "code",
   "execution_count": null,
   "metadata": {},
   "outputs": [],
   "source": [
    "visualization.plot_freq_covariance(spanish_cov)\n",
    "\n",
    "visualization.plot_freq_covariance(french_cov)"
   ]
  },
  {
   "cell_type": "code",
   "execution_count": null,
   "metadata": {},
   "outputs": [],
   "source": [
    "covariance_analysis.get_procrustes_distance_svd(\n",
    "    langfam=enums.RomanceLanguages,\n",
    "    lang1=enums.RomanceLanguages.AMERICAN_SPANISH,\n",
    "    lang2=enums.RomanceLanguages.FRENCH,\n",
    "    cov_type=enums.CovarianceType.FREQUENCY\n",
    ")"
   ]
  },
  {
   "cell_type": "code",
   "execution_count": null,
   "metadata": {},
   "outputs": [],
   "source": [
    "covariance_analysis.interspeaker_interp(\n",
    "    langfam=enums.RomanceLanguages,\n",
    "    lang1=enums.RomanceLanguages.AMERICAN_SPANISH,\n",
    "    lang2=enums.RomanceLanguages.FRENCH,\n",
    "    speaker1=enums.AmericanSpanishSpeakers.SPEAKER_3,\n",
    "    speaker2=enums.FrenchSpeakers.SPEAKER_8,\n",
    "    digit=3,\n",
    ")"
   ]
  },
  {
   "cell_type": "code",
   "execution_count": 8,
   "metadata": {},
   "outputs": [],
   "source": [
    "G = hyperbolic_analysis.construct_knn_graph(\n",
    "    language_family=enums.RomanceLanguages,\n",
    "    digit=3,\n",
    "    k=6\n",
    ")"
   ]
  },
  {
   "cell_type": "code",
   "execution_count": null,
   "metadata": {},
   "outputs": [],
   "source": [
    "X = hyperbolic_analysis.get_embeddings(\n",
    "    graph=G,\n",
    "    language_family=enums.RomanceLanguages\n",
    ")"
   ]
  },
  {
   "cell_type": "code",
   "execution_count": null,
   "metadata": {},
   "outputs": [],
   "source": [
    "visualization.plot_poincare_disk(\n",
    "    embedding_dict=X,\n",
    "    digit=3,\n",
    "    k=6,\n",
    "    language_family=enums.RomanceLanguages\n",
    ")"
   ]
  },
  {
   "cell_type": "code",
   "execution_count": null,
   "metadata": {},
   "outputs": [],
   "source": [
    "interp_settings = hyperbolic_analysis.InterpSettings(\n",
    "    lang1=enums.RomanceLanguages.AMERICAN_SPANISH,\n",
    "    lang2=enums.RomanceLanguages.FRENCH,\n",
    "    speaker1=enums.AmericanSpanishSpeakers.SPEAKER_3,\n",
    "    speaker2=enums.FrenchSpeakers.SPEAKER_8,\n",
    "    digit=3,\n",
    ")\n",
    "\n",
    "G_interp = hyperbolic_analysis.construct_knn_graph(\n",
    "    language_family=enums.RomanceLanguages,\n",
    "    digit=3,\n",
    "    k=6,\n",
    "    interp_settings=interp_settings\n",
    ")\n",
    "\n",
    "X_interp = hyperbolic_analysis.get_embeddings(\n",
    "    graph=G_interp,\n",
    "    language_family=enums.RomanceLanguages,   \n",
    ")\n",
    "\n",
    "visualization.plot_poincare_disk(\n",
    "    embedding_dict=X_interp,\n",
    "    digit=3,\n",
    "    k=6,\n",
    "    language_family=enums.RomanceLanguages,\n",
    "    interp_settings=interp_settings\n",
    ")"
   ]
  },
  {
   "cell_type": "code",
   "execution_count": null,
   "metadata": {},
   "outputs": [],
   "source": [
    "X = hyperbolic_analysis.align_all_digit_disks(\n",
    "    k=6,\n",
    "    language_family=enums.RomanceLanguages\n",
    ")\n",
    "\n",
    "visualization.plot_aligned_digit_centroids(\n",
    "    embedding_dict=X,\n",
    "    k=6,\n",
    "    language_family=enums.RomanceLanguages,\n",
    "    radii=True,\n",
    ")"
   ]
  },
  {
   "cell_type": "code",
   "execution_count": null,
   "metadata": {},
   "outputs": [],
   "source": []
  }
 ],
 "metadata": {
  "kernelspec": {
   "display_name": "am91r",
   "language": "python",
   "name": "python3"
  },
  "language_info": {
   "codemirror_mode": {
    "name": "ipython",
    "version": 3
   },
   "file_extension": ".py",
   "mimetype": "text/x-python",
   "name": "python",
   "nbconvert_exporter": "python",
   "pygments_lexer": "ipython3",
   "version": "3.9.7"
  }
 },
 "nbformat": 4,
 "nbformat_minor": 2
}
